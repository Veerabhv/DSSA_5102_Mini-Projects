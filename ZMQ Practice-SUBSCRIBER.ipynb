{
 "cells": [
  {
   "cell_type": "markdown",
   "metadata": {},
   "source": [
    "### ZMQ Practice - Subscriber Notebook"
   ]
  },
  {
   "cell_type": "code",
   "execution_count": 1,
   "metadata": {},
   "outputs": [],
   "source": [
    "import zmq\n",
    "import hashlib\n",
    "import datetime\n",
    "import numpy as np\n",
    "import random\n",
    "import time\n",
    "import struct\n",
    "import pandas as pd\n",
    "import matplotlib.pyplot as plt\n",
    "% matplotlib inline\n",
    "from   IPython.display import clear_output"
   ]
  },
  {
   "cell_type": "markdown",
   "metadata": {},
   "source": [
    "Specify the destination file first"
   ]
  },
  {
   "cell_type": "code",
   "execution_count": 2,
   "metadata": {},
   "outputs": [],
   "source": [
    "destinationfile = \"sample_subscriber.dat\""
   ]
  },
  {
   "cell_type": "markdown",
   "metadata": {},
   "source": [
    "Initializing a new Context and creating a new socket - for Subscriber."
   ]
  },
  {
   "cell_type": "code",
   "execution_count": 3,
   "metadata": {},
   "outputs": [],
   "source": [
    "context = zmq.Context()\n",
    "subsocket = context.socket(zmq.SUB)\n",
    "subsocket.connect(\"tcp://127.0.0.1:12345\")\n",
    "subsocket.setsockopt_string(zmq.SUBSCRIBE, \"\")"
   ]
  },
  {
   "cell_type": "markdown",
   "metadata": {},
   "source": [
    "Running the code again with any updates can result in zmq error \"address in use\". Restartign the Kernel solves this issue."
   ]
  },
  {
   "cell_type": "markdown",
   "metadata": {},
   "source": [
    "Code to Test Checksums and Recieve Data"
   ]
  },
  {
   "cell_type": "code",
   "execution_count": null,
   "metadata": {},
   "outputs": [
    {
     "name": "stdout",
     "output_type": "stream",
     "text": [
      "[2018-12-08 17:16:33.273810] SHA256 Test: True\n"
     ]
    }
   ],
   "source": [
    "delimiter = struct.pack('<L', 0xFACE)\n",
    "while True:\n",
    "    rawdata, hash_value = subsocket.recv_multipart()\n",
    "\n",
    "    sha256 = hashlib.sha256()\n",
    "    sha256.update(rawdata)\n",
    "    sha256_test = sha256.hexdigest() == hash_value.decode('utf-8')\n",
    "    clear_output()\n",
    "    print(\"[%s] SHA256 Test: %s\" % (datetime.datetime.now(), sha256_test))\n"
   ]
  },
  {
   "cell_type": "code",
   "execution_count": null,
   "metadata": {},
   "outputs": [],
   "source": [
    "    if sha256_test:\n",
    "        with open(destinationfile, \"ab\") as f:\n",
    "            f.write(delimiter)\n",
    "            f.write(rawdata)\n",
    "            f.write(hash_value)"
   ]
  }
 ],
 "metadata": {
  "kernelspec": {
   "display_name": "Python 3",
   "language": "python",
   "name": "python3"
  },
  "language_info": {
   "codemirror_mode": {
    "name": "ipython",
    "version": 3
   },
   "file_extension": ".py",
   "mimetype": "text/x-python",
   "name": "python",
   "nbconvert_exporter": "python",
   "pygments_lexer": "ipython3",
   "version": "3.6.5"
  }
 },
 "nbformat": 4,
 "nbformat_minor": 2
}
